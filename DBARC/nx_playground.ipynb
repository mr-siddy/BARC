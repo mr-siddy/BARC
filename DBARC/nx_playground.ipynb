{
 "cells": [
  {
   "cell_type": "code",
   "execution_count": 1,
   "metadata": {},
   "outputs": [],
   "source": [
    "import networkx as nx\n",
    "import torch\n",
    "import torch_geometric\n",
    "from torch_geometric.datasets import WikipediaNetwork\n",
    "from torch_geometric.utils import to_networkx\n",
    "from torch_geometric.utils import k_hop_subgraph\n",
    "from atten_layer import ATLayer\n"
   ]
  },
  {
   "cell_type": "code",
   "execution_count": 2,
   "metadata": {},
   "outputs": [],
   "source": [
    "dataset = WikipediaNetwork(root=\"/home/siddy/META/data\", name='chameleon')\n",
    "data = dataset[0]"
   ]
  },
  {
   "cell_type": "code",
   "execution_count": 3,
   "metadata": {},
   "outputs": [
    {
     "data": {
      "text/plain": [
       "Data(x=[2277, 2325], edge_index=[2, 36101], y=[2277], train_mask=[2277, 10], val_mask=[2277, 10], test_mask=[2277, 10])"
      ]
     },
     "execution_count": 3,
     "metadata": {},
     "output_type": "execute_result"
    }
   ],
   "source": [
    "data"
   ]
  },
  {
   "cell_type": "code",
   "execution_count": 4,
   "metadata": {},
   "outputs": [],
   "source": [
    "x = data.x"
   ]
  },
  {
   "cell_type": "code",
   "execution_count": 5,
   "metadata": {},
   "outputs": [
    {
     "data": {
      "text/plain": [
       "tensor([[   0,    0,    0,  ..., 2276, 2276, 2276],\n",
       "        [1161, 1667, 1991,  ..., 2212, 2246, 2276]])"
      ]
     },
     "execution_count": 5,
     "metadata": {},
     "output_type": "execute_result"
    }
   ],
   "source": [
    "data.edge_index"
   ]
  },
  {
   "cell_type": "code",
   "execution_count": 6,
   "metadata": {},
   "outputs": [],
   "source": [
    "edge_index = data.edge_index"
   ]
  },
  {
   "cell_type": "code",
   "execution_count": 7,
   "metadata": {},
   "outputs": [],
   "source": [
    "G = to_networkx(data, to_undirected=True)"
   ]
  },
  {
   "cell_type": "code",
   "execution_count": 8,
   "metadata": {},
   "outputs": [],
   "source": [
    "y= data.y"
   ]
  },
  {
   "cell_type": "code",
   "execution_count": 9,
   "metadata": {},
   "outputs": [],
   "source": [
    "paths = nx.single_source_shortest_path(G, 0, cutoff=2)"
   ]
  },
  {
   "cell_type": "code",
   "execution_count": 10,
   "metadata": {},
   "outputs": [
    {
     "data": {
      "text/plain": [
       "{0: [0],\n",
       " 1161: [0, 1161],\n",
       " 1667: [0, 1667],\n",
       " 1991: [0, 1991],\n",
       " 2130: [0, 2130],\n",
       " 2156: [0, 2156],\n",
       " 128: [0, 1161, 128],\n",
       " 275: [0, 1161, 275],\n",
       " 359: [0, 1161, 359],\n",
       " 431: [0, 1161, 431],\n",
       " 472: [0, 1161, 472],\n",
       " 725: [0, 1161, 725],\n",
       " 815: [0, 1161, 815],\n",
       " 1044: [0, 1161, 1044],\n",
       " 1125: [0, 1161, 1125],\n",
       " 2162: [0, 1161, 2162],\n",
       " 2246: [0, 1161, 2246],\n",
       " 1611: [0, 1667, 1611],\n",
       " 320: [0, 1991, 320],\n",
       " 1181: [0, 2130, 1181],\n",
       " 1620: [0, 2130, 1620],\n",
       " 1878: [0, 2130, 1878],\n",
       " 1914: [0, 2130, 1914],\n",
       " 2149: [0, 2130, 2149],\n",
       " 2263: [0, 2130, 2263]}"
      ]
     },
     "execution_count": 10,
     "metadata": {},
     "output_type": "execute_result"
    }
   ],
   "source": [
    "paths"
   ]
  },
  {
   "cell_type": "code",
   "execution_count": 11,
   "metadata": {},
   "outputs": [
    {
     "name": "stdout",
     "output_type": "stream",
     "text": [
      "[0]\n",
      "[0, 1161]\n",
      "[0, 1667]\n",
      "[0, 1991]\n",
      "[0, 2130]\n",
      "[0, 2156]\n",
      "[0, 1161, 128]\n",
      "[0, 1161, 275]\n",
      "[0, 1161, 359]\n",
      "[0, 1161, 431]\n",
      "[0, 1161, 472]\n",
      "[0, 1161, 725]\n",
      "[0, 1161, 815]\n",
      "[0, 1161, 1044]\n",
      "[0, 1161, 1125]\n",
      "[0, 1161, 2162]\n",
      "[0, 1161, 2246]\n",
      "[0, 1667, 1611]\n",
      "[0, 1991, 320]\n",
      "[0, 2130, 1181]\n",
      "[0, 2130, 1620]\n",
      "[0, 2130, 1878]\n",
      "[0, 2130, 1914]\n",
      "[0, 2130, 2149]\n",
      "[0, 2130, 2263]\n"
     ]
    }
   ],
   "source": [
    "edge_list= []\n",
    "for key, value in paths.items():\n",
    "    print(value)\n",
    "    if len(value)==2:\n",
    "        edge_list.append(value)\n",
    "    elif len(value)==3:\n",
    "        edge_list.append(value[1:])\n",
    "    "
   ]
  },
  {
   "cell_type": "code",
   "execution_count": 12,
   "metadata": {},
   "outputs": [
    {
     "data": {
      "text/plain": [
       "[[0, 1161],\n",
       " [0, 1667],\n",
       " [0, 1991],\n",
       " [0, 2130],\n",
       " [0, 2156],\n",
       " [1161, 128],\n",
       " [1161, 275],\n",
       " [1161, 359],\n",
       " [1161, 431],\n",
       " [1161, 472],\n",
       " [1161, 725],\n",
       " [1161, 815],\n",
       " [1161, 1044],\n",
       " [1161, 1125],\n",
       " [1161, 2162],\n",
       " [1161, 2246],\n",
       " [1667, 1611],\n",
       " [1991, 320],\n",
       " [2130, 1181],\n",
       " [2130, 1620],\n",
       " [2130, 1878],\n",
       " [2130, 1914],\n",
       " [2130, 2149],\n",
       " [2130, 2263]]"
      ]
     },
     "execution_count": 12,
     "metadata": {},
     "output_type": "execute_result"
    }
   ],
   "source": [
    "edge_list"
   ]
  },
  {
   "cell_type": "code",
   "execution_count": 22,
   "metadata": {},
   "outputs": [
    {
     "data": {
      "text/plain": [
       "25"
      ]
     },
     "execution_count": 22,
     "metadata": {},
     "output_type": "execute_result"
    }
   ],
   "source": [
    "size = len(set([n for e in edge_list for n in e]))\n",
    "size"
   ]
  },
  {
   "cell_type": "code",
   "execution_count": 23,
   "metadata": {},
   "outputs": [
    {
     "data": {
      "text/plain": [
       "torch.Size([25, 25])"
      ]
     },
     "execution_count": 23,
     "metadata": {},
     "output_type": "execute_result"
    }
   ],
   "source": [
    "adj_matrix = torch.zeros(size, size)\n",
    "adj_matrix.shape"
   ]
  },
  {
   "cell_type": "code",
   "execution_count": null,
   "metadata": {},
   "outputs": [],
   "source": []
  },
  {
   "cell_type": "code",
   "execution_count": 18,
   "metadata": {},
   "outputs": [
    {
     "ename": "AttributeError",
     "evalue": "'list' object has no attribute 'shape'",
     "output_type": "error",
     "traceback": [
      "\u001b[0;31m---------------------------------------------------------------------------\u001b[0m",
      "\u001b[0;31mAttributeError\u001b[0m                            Traceback (most recent call last)",
      "Cell \u001b[0;32mIn[18], line 6\u001b[0m\n\u001b[1;32m      4\u001b[0m \u001b[39m# make an empty adjacency list  \u001b[39;00m\n\u001b[1;32m      5\u001b[0m adjacency \u001b[39m=\u001b[39m [[\u001b[39m0\u001b[39m]\u001b[39m*\u001b[39msize \u001b[39mfor\u001b[39;00m _ \u001b[39min\u001b[39;00m \u001b[39mrange\u001b[39m(size)]\n\u001b[0;32m----> 6\u001b[0m \u001b[39mprint\u001b[39m(adjacency\u001b[39m.\u001b[39;49mshape)\n",
      "\u001b[0;31mAttributeError\u001b[0m: 'list' object has no attribute 'shape'"
     ]
    }
   ],
   "source": [
    "# nodes must be numbers in a sequential range starting at 0 - so this is the\n",
    "# number of nodes. you can assert this is the case as well if desired \n",
    "size = len(set([n for e in edge_list for n in e])) \n",
    "# make an empty adjacency list  \n",
    "adjacency = [[0]*size for _ in range(size)]\n",
    "print(adjacency.shape)\n",
    "# populate the list for each edge\n",
    "#for sink, source in edge_list:\n",
    "#    adjacency[sink][source] = 1\n"
   ]
  },
  {
   "cell_type": "code",
   "execution_count": 21,
   "metadata": {},
   "outputs": [
    {
     "name": "stdout",
     "output_type": "stream",
     "text": [
      "2\n",
      "2\n"
     ]
    }
   ],
   "source": [
    "E = [[0, 0], [0, 1], [1, 0], [1, 1]]\n",
    "\n",
    "# nodes must be numbers in a sequential range starting at 0 - so this is the\n",
    "# number of nodes. you can assert this is the case as well if desired \n",
    "size = len(set([n for e in E for n in e])) \n",
    "print(size)\n",
    "# make an empty adjacency list  \n",
    "adjacency = [[0]*size for _ in range(size)]\n",
    "print(len(adjacency))\n",
    "# populate the list for each edge\n",
    "for sink, source in E:\n",
    "    adjacency[sink][source] = 1"
   ]
  },
  {
   "cell_type": "code",
   "execution_count": 20,
   "metadata": {},
   "outputs": [
    {
     "data": {
      "text/plain": [
       "[[1, 1], [1, 1]]"
      ]
     },
     "execution_count": 20,
     "metadata": {},
     "output_type": "execute_result"
    }
   ],
   "source": [
    "adjacency"
   ]
  },
  {
   "cell_type": "code",
   "execution_count": 17,
   "metadata": {},
   "outputs": [],
   "source": [
    "edge_list = torch.permute(torch.tensor(edge_list, dtype=torch.long),(1,0))"
   ]
  },
  {
   "cell_type": "code",
   "execution_count": 18,
   "metadata": {},
   "outputs": [
    {
     "data": {
      "text/plain": [
       "tensor([[   0,    0,    0,    0,    0, 1161, 1161, 1161, 1161, 1161, 1161, 1161,\n",
       "         1161, 1161, 1161, 1161, 1667, 1991, 2130, 2130, 2130, 2130, 2130, 2130],\n",
       "        [1161, 1667, 1991, 2130, 2156,  128,  275,  359,  431,  472,  725,  815,\n",
       "         1044, 1125, 2162, 2246, 1611,  320, 1181, 1620, 1878, 1914, 2149, 2263]])"
      ]
     },
     "execution_count": 18,
     "metadata": {},
     "output_type": "execute_result"
    }
   ],
   "source": [
    "edge_list"
   ]
  },
  {
   "cell_type": "code",
   "execution_count": 19,
   "metadata": {},
   "outputs": [
    {
     "data": {
      "text/plain": [
       "torch.Size([2, 24])"
      ]
     },
     "execution_count": 19,
     "metadata": {},
     "output_type": "execute_result"
    }
   ],
   "source": [
    "edge_list.shape"
   ]
  },
  {
   "cell_type": "code",
   "execution_count": 69,
   "metadata": {},
   "outputs": [],
   "source": [
    "from torch_geometric.data import Data"
   ]
  },
  {
   "cell_type": "code",
   "execution_count": null,
   "metadata": {},
   "outputs": [],
   "source": [
    "    E= [[0, 0], [0, 1], [1, 0], [1, 1]]\n",
    "    size = max(max(E))+1\n",
    "    r = [[0 for i in range(size)] for j in range(size)]\n",
    "    for row,col in E:\n",
    "        r[row][col] = 1\n",
    "    print(r) "
   ]
  },
  {
   "cell_type": "code",
   "execution_count": 23,
   "metadata": {},
   "outputs": [],
   "source": [
    "edge_list= edge_list.reshape(-1, 2)"
   ]
  },
  {
   "cell_type": "code",
   "execution_count": 25,
   "metadata": {},
   "outputs": [
    {
     "data": {
      "text/plain": [
       "tensor([[   0,    0],\n",
       "        [   0,    0],\n",
       "        [   0, 1161],\n",
       "        [1161, 1161],\n",
       "        [1161, 1161],\n",
       "        [1161, 1161],\n",
       "        [1161, 1161],\n",
       "        [1161, 1161],\n",
       "        [1667, 1991],\n",
       "        [2130, 2130],\n",
       "        [2130, 2130],\n",
       "        [2130, 2130],\n",
       "        [1161, 1667],\n",
       "        [1991, 2130],\n",
       "        [2156,  128],\n",
       "        [ 275,  359],\n",
       "        [ 431,  472],\n",
       "        [ 725,  815],\n",
       "        [1044, 1125],\n",
       "        [2162, 2246],\n",
       "        [1611,  320],\n",
       "        [1181, 1620],\n",
       "        [1878, 1914],\n",
       "        [2149, 2263]])"
      ]
     },
     "execution_count": 25,
     "metadata": {},
     "output_type": "execute_result"
    }
   ],
   "source": [
    "edge_list"
   ]
  },
  {
   "cell_type": "code",
   "execution_count": 28,
   "metadata": {},
   "outputs": [],
   "source": [
    "size = len(set([n for e in edge_list for n in e])) "
   ]
  },
  {
   "cell_type": "code",
   "execution_count": 29,
   "metadata": {},
   "outputs": [
    {
     "data": {
      "text/plain": [
       "48"
      ]
     },
     "execution_count": 29,
     "metadata": {},
     "output_type": "execute_result"
    }
   ],
   "source": [
    "size"
   ]
  },
  {
   "cell_type": "code",
   "execution_count": 72,
   "metadata": {},
   "outputs": [],
   "source": [
    "data = Data(x=x, edge_index=edge_list, y=y)"
   ]
  },
  {
   "cell_type": "code",
   "execution_count": 73,
   "metadata": {},
   "outputs": [
    {
     "data": {
      "text/plain": [
       "Data(x=[2277, 2325], edge_index=[2, 24], y=[2277])"
      ]
     },
     "execution_count": 73,
     "metadata": {},
     "output_type": "execute_result"
    }
   ],
   "source": [
    "data"
   ]
  },
  {
   "cell_type": "code",
   "execution_count": 75,
   "metadata": {},
   "outputs": [
    {
     "data": {
      "text/plain": [
       "torch.Size([2277, 2325])"
      ]
     },
     "execution_count": 75,
     "metadata": {},
     "output_type": "execute_result"
    }
   ],
   "source": [
    "data.x.shape"
   ]
  },
  {
   "cell_type": "code",
   "execution_count": null,
   "metadata": {},
   "outputs": [],
   "source": []
  }
 ],
 "metadata": {
  "kernelspec": {
   "display_name": "Python 3.8 (GDL)",
   "language": "python",
   "name": "gdl"
  },
  "language_info": {
   "codemirror_mode": {
    "name": "ipython",
    "version": 3
   },
   "file_extension": ".py",
   "mimetype": "text/x-python",
   "name": "python",
   "nbconvert_exporter": "python",
   "pygments_lexer": "ipython3",
   "version": "3.8.16"
  },
  "orig_nbformat": 4
 },
 "nbformat": 4,
 "nbformat_minor": 2
}

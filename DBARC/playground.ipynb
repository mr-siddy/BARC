{
 "cells": [
  {
   "cell_type": "code",
   "execution_count": 1,
   "metadata": {},
   "outputs": [],
   "source": [
    "import torch\n",
    "import torch.nn as nn\n",
    "import torch.nn.functional as F\n",
    "import torch.optim as optim\n",
    "import numpy as np\n",
    "import torch.utils.data as data\n",
    "import torch_geometric\n",
    "from torch_geometric.datasets import WebKB\n",
    "from torch_geometric.utils import to_networkx, k_hop_subgraph\n",
    "\n",
    "import networkx as nx"
   ]
  },
  {
   "cell_type": "code",
   "execution_count": 2,
   "metadata": {},
   "outputs": [],
   "source": [
    "dataset = WebKB(root=\"/home/siddy/META/data\", name='cornell')\n",
    "data = dataset[0]"
   ]
  },
  {
   "cell_type": "code",
   "execution_count": 3,
   "metadata": {},
   "outputs": [
    {
     "data": {
      "text/plain": [
       "Data(x=[183, 1703], edge_index=[2, 298], y=[183], train_mask=[183, 10], val_mask=[183, 10], test_mask=[183, 10])"
      ]
     },
     "execution_count": 3,
     "metadata": {},
     "output_type": "execute_result"
    }
   ],
   "source": [
    "data"
   ]
  },
  {
   "cell_type": "code",
   "execution_count": 4,
   "metadata": {},
   "outputs": [],
   "source": [
    "#netwrokx graph G\n",
    "G = to_networkx(data, to_undirected=True)"
   ]
  },
  {
   "cell_type": "code",
   "execution_count": 5,
   "metadata": {},
   "outputs": [],
   "source": [
    "def init_ball(radius: int, graph):\n",
    "    edge_dict = {}\n",
    "    for index, node in enumerate(graph.nodes()):\n",
    "        paths = nx.single_source_shortest_path(graph, node, radius)\n",
    "        if index not in edge_dict:\n",
    "            edge_dict[index] = []\n",
    "        for key, value in paths.items():\n",
    "            if len(value) == 2:\n",
    "                edge_dict[index].append(value)\n",
    "            elif len(value)==3:\n",
    "                edge_dict[index].append(value[1:])\n",
    "    return edge_dict"
   ]
  },
  {
   "cell_type": "code",
   "execution_count": 6,
   "metadata": {},
   "outputs": [],
   "source": [
    "edge_dict= init_ball(radius=2, graph=G)"
   ]
  },
  {
   "cell_type": "code",
   "execution_count": null,
   "metadata": {},
   "outputs": [],
   "source": [
    "edge_attn = Edge_atten(in_channels=data.x.size(1), out_channels=64)\n",
    "ball_gcn = BallGCN(in_channels=data.x.size(1), hidden_channels=64)"
   ]
  },
  {
   "cell_type": "code",
   "execution_count": 16,
   "metadata": {},
   "outputs": [
    {
     "ename": "NameError",
     "evalue": "name 'edge_attn' is not defined",
     "output_type": "error",
     "traceback": [
      "\u001b[0;31m---------------------------------------------------------------------------\u001b[0m",
      "\u001b[0;31mNameError\u001b[0m                                 Traceback (most recent call last)",
      "\u001b[1;32m/home/siddy/META/DBARC/playground.ipynb Cell 8\u001b[0m line \u001b[0;36m1\n\u001b[0;32m----> <a href='vscode-notebook-cell:/home/siddy/META/DBARC/playground.ipynb#X13sZmlsZQ%3D%3D?line=0'>1</a>\u001b[0m optimizer \u001b[39m=\u001b[39m torch\u001b[39m.\u001b[39moptim\u001b[39m.\u001b[39mAdam(\u001b[39mset\u001b[39m(edge_attn\u001b[39m.\u001b[39mparameters())\u001b[39m|\u001b[39m \u001b[39mset\u001b[39m(ball_gcn\u001b[39m.\u001b[39mparameters()), lr\u001b[39m=\u001b[39m\u001b[39m0.001\u001b[39m, weight_decay\u001b[39m=\u001b[39m\u001b[39m5e-4\u001b[39m)\n",
      "\u001b[0;31mNameError\u001b[0m: name 'edge_attn' is not defined"
     ]
    }
   ],
   "source": [
    "optimizer = torch.optim.Adam(set(edge_attn.parameters())| set(ball_gcn.parameters()), lr=0.001, weight_decay=5e-4)"
   ]
  },
  {
   "cell_type": "code",
   "execution_count": null,
   "metadata": {},
   "outputs": [],
   "source": [
    "def train():\n",
    "    edge_attn.train()\n",
    "    ball_gcn.train()\n",
    "    out = ball_gcn(data.x, data.edge_index, data.edge_attr)\n",
    "    loss = F.cross_entropy(out[data.train_mask], data.y[data.train_mask])\n",
    "    loss.backward()\n",
    "    optimizer.step()\n",
    "    return float(loss)"
   ]
  },
  {
   "cell_type": "code",
   "execution_count": null,
   "metadata": {},
   "outputs": [],
   "source": [
    "@torch.no_grad()\n",
    "def test():\n",
    "    edge_attn.eval()\n",
    "    ball_gcn.eval()\n",
    "    pred = model(data.x, data.edge_index, data.edge_attr).argmax(dim=-1)\n",
    "\n",
    "    accs=[]\n",
    "    for mask in [data.train_mask, data.val_mask, data.test_mask]:\n",
    "        accs.append(int((pred[mask] == data.y[mask]).sum()) / int(mask.sum()))\n",
    "    return accs"
   ]
  },
  {
   "cell_type": "code",
   "execution_count": null,
   "metadata": {},
   "outputs": [],
   "source": [
    "best_val_acc = final_test_acc = 0\n",
    "times = []\n",
    "for epoch in range(1, epochs+1):\n",
    "    start = time.time()\n",
    "    loss= train()\n",
    "    train_acc, val_acc, tmp_test_acc = test()\n",
    "    if val_acc > best_val_acc:\n",
    "        best_val_acc = val_acc\n",
    "        test_acc = tmp_test_acc\n",
    "    print(f\"Epoch:{epoch}, Loss:{loss}, Train:{train_acc}, Val:{val_acc}, Test:{test_acc}\")\n",
    "    times.append(time.time()-start)\n",
    "print(f\"Median time per epoch: {torch.tensor(times).median():.4f}s\")"
   ]
  },
  {
   "cell_type": "code",
   "execution_count": 2,
   "metadata": {},
   "outputs": [],
   "source": []
  },
  {
   "cell_type": "code",
   "execution_count": null,
   "metadata": {},
   "outputs": [],
   "source": [
    "b"
   ]
  },
  {
   "cell_type": "code",
   "execution_count": null,
   "metadata": {},
   "outputs": [],
   "source": []
  },
  {
   "cell_type": "code",
   "execution_count": null,
   "metadata": {},
   "outputs": [],
   "source": []
  },
  {
   "cell_type": "code",
   "execution_count": null,
   "metadata": {},
   "outputs": [],
   "source": []
  },
  {
   "cell_type": "markdown",
   "metadata": {},
   "source": [
    "import torch\n",
    "from torch import nn\n",
    "from torch.autograd import Variable\n",
    "from torch.utils.data import DataLoader, TensorDataset\n",
    "from math_utils import acos, arcosh\n",
    "\n",
    "class ProductDistance():\n",
    "    def __init__(self, x, y, k, atten_prob):\n",
    "        self.x = torch.tensor(x)\n",
    "        #print(x.dtype)\n",
    "        self.y = torch.tensor(y)\n",
    "        self.k = torch.tensor(k)\n",
    "        self.atten_prob = atten_prob\n",
    "        self.eps = {torch.float32: 1e-7, torch.float64: 1e-15}\n",
    "    \n",
    "    def poincaresqdist(self):\n",
    "        if len(self.x) != len(self.y):\n",
    "            raise ValueError(\"Input vectors must have the same dimensions\")\n",
    "        \n",
    "        K = 1./ torch.sqrt(- self.k)\n",
    "        prod = self.atten_prob**2\n",
    "        #dist = torch.clamp(1. - ((2*self.k*(prod))/((1+self.k*(torch.norm(self.x, p=2.0, dtype=torch.float)**2))*(1+self.k*(torch.norm(self.y, p=2.0, dtype=torch.float)**2)))), min=1.0 + self.eps[self.x.dtype])\n",
    "        dist = 1. - ((2*self.k*(prod))/((1+self.k*(torch.norm(self.x, p=2.0, dtype=torch.float)**2))*(1+self.k*(torch.norm(self.y, p=2.0, dtype=torch.float)**2))))\n",
    "        sqdist = (K * arcosh(dist))**2\n",
    "        return sqdist\n",
    "\n",
    "    def hyperspheresqdist(self):\n",
    "        if len(self.x) != len(self.y):\n",
    "            raise ValueError(\"Input vectors must have the same dimensions\")\n",
    "        \n",
    "        K = 1./ torch.sqrt(self.k)\n",
    "        prod = self.atten_prob**2\n",
    "        #dist = torch.clamp(1. - ((2*self.k*(prod))/((1+self.k*(torch.norm(self.x, p=2, dtype=torch.float)**2))*(1+self.k*(torch.norm(self.y, p=2, dtype=torch.float)**2)))), min=1.0 + self.eps[self.x.dtype])\n",
    "        dist = 1. - ((2*self.k*(prod))/((1+self.k*(torch.norm(self.x, p=2, dtype=torch.float)**2))*(1+self.k*(torch.norm(self.y, p=2, dtype=torch.float)**2))))     \n",
    "        sqdist = (K * acos(dist))**2\n",
    "        return sqdist\n",
    "\n",
    "    def euclideansqdist(self):\n",
    "        if len(self.x) != len(self.y):\n",
    "            raise ValueError(\"Input vectors must have the same dimensions\")\n",
    "\n",
    "        dist = torch.norm(self.x - self.y, p=2, dtype=torch.float)\n",
    "        sqdist = dist**2\n",
    "        return sqdist\n",
    "\n",
    "    def productdistance(self):\n",
    "        poincare_dist = self.poincaresqdist()\n",
    "        hypersphere_dist = self.hyperspheresqdist()\n",
    "        euclidean_dist = self.euclideansqdist()\n",
    "\n",
    "        return torch.sqrt(poincare_dist+hypersphere_dist+euclidean_dist)\n",
    "\n",
    "\n",
    "if __name__ == \"__main__\":\n",
    "    k = 1.0\n",
    "    x = [1, 2, 3]\n",
    "    y = [4, 5, 6]\n",
    "\n",
    "\n",
    "    product_distance_calculator = ProductDistance(x, y, k, atten_prob=1)\n",
    "    print(\"Poincare Distance:\", product_distance_calculator.poincaresqdist())\n",
    "    print(\"Hypersphere Distance:\", product_distance_calculator.hyperspheresqdist())\n",
    "    print(\"Euclidean Distance:\", product_distance_calculator.euclideansqdist())\n",
    "    print(\"Product Distance:\", product_distance_calculator.productdistance())"
   ]
  },
  {
   "cell_type": "code",
   "execution_count": null,
   "metadata": {},
   "outputs": [],
   "source": []
  },
  {
   "cell_type": "code",
   "execution_count": null,
   "metadata": {},
   "outputs": [],
   "source": []
  }
 ],
 "metadata": {
  "kernelspec": {
   "display_name": "Python 3.8 (GDL)",
   "language": "python",
   "name": "gdl"
  },
  "language_info": {
   "codemirror_mode": {
    "name": "ipython",
    "version": 3
   },
   "file_extension": ".py",
   "mimetype": "text/x-python",
   "name": "python",
   "nbconvert_exporter": "python",
   "pygments_lexer": "ipython3",
   "version": "3.8.16"
  },
  "orig_nbformat": 4
 },
 "nbformat": 4,
 "nbformat_minor": 2
}
